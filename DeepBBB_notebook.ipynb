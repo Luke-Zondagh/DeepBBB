{
  "nbformat": 4,
  "nbformat_minor": 0,
  "metadata": {
    "colab": {
      "provenance": [],
      "gpuType": "T4",
      "mount_file_id": "1szyUJ5d8Xs74IvkXDsh-jsxvhp1IzW8T",
      "authorship_tag": "ABX9TyPVST2sUeItP/4vE7hf0w8D",
      "include_colab_link": true
    },
    "kernelspec": {
      "name": "python3",
      "display_name": "Python 3"
    },
    "language_info": {
      "name": "python"
    }
  },
  "cells": [
    {
      "cell_type": "markdown",
      "metadata": {
        "id": "view-in-github",
        "colab_type": "text"
      },
      "source": [
        "<a href=\"https://colab.research.google.com/github/Luke-Zondagh/DeepBBB/blob/main/DeepBBB_notebook.ipynb\" target=\"_parent\"><img src=\"https://colab.research.google.com/assets/colab-badge.svg\" alt=\"Open In Colab\"/></a>"
      ]
    },
    {
      "cell_type": "markdown",
      "source": [
        "## Mounting Google drive"
      ],
      "metadata": {
        "id": "OczBDka0XwYu"
      }
    },
    {
      "cell_type": "code",
      "execution_count": 8,
      "metadata": {
        "colab": {
          "base_uri": "https://localhost:8080/"
        },
        "id": "_VEM1bJFGiPR",
        "outputId": "817ea816-5338-427a-ff46-53b491855f9d"
      },
      "outputs": [
        {
          "output_type": "stream",
          "name": "stdout",
          "text": [
            "Mounted at /content/gdrive\n"
          ]
        }
      ],
      "source": [
        "from google.colab import drive\n",
        "drive.mount(\"/content/drive\")"
      ]
    },
    {
      "cell_type": "markdown",
      "source": [
        "## After mounting drive change into current working directory you want work in"
      ],
      "metadata": {
        "id": "vV17ZUJnR6UU"
      }
    },
    {
      "cell_type": "code",
      "source": [
        "%cd /content/drive/MyDrive/Colab_Notebooks/\n",
        "!ls"
      ],
      "metadata": {
        "colab": {
          "base_uri": "https://localhost:8080/"
        },
        "id": "kadc_GQ6IKEq",
        "outputId": "764ca906-6db0-48b1-e9b6-4d342f0c68d4"
      },
      "execution_count": 1,
      "outputs": [
        {
          "output_type": "stream",
          "name": "stdout",
          "text": [
            "/content/drive/MyDrive/Colab_Notebooks/DeepBBB\n",
            "DeePred-BBB\n"
          ]
        }
      ]
    },
    {
      "cell_type": "markdown",
      "source": [
        "## Cloning data from DeePred-BBB repository on Github\n"
      ],
      "metadata": {
        "id": "BDxTusodXQrw"
      }
    },
    {
      "cell_type": "code",
      "source": [
        "!git clone 'https://github.com/12rajnish/DeePred-BBB.git'\n"
      ],
      "metadata": {
        "colab": {
          "base_uri": "https://localhost:8080/"
        },
        "id": "4gORg8XUJQRo",
        "outputId": "f9ce069f-25ff-439b-d08e-794230e536a1"
      },
      "execution_count": 40,
      "outputs": [
        {
          "output_type": "stream",
          "name": "stdout",
          "text": [
            "Cloning into 'DeePred-BBB'...\n",
            "remote: Enumerating objects: 61, done.\u001b[K\n",
            "remote: Counting objects: 100% (61/61), done.\u001b[K\n",
            "remote: Compressing objects: 100% (54/54), done.\u001b[K\n",
            "remote: Total 61 (delta 8), reused 39 (delta 3), pack-reused 0\u001b[K\n",
            "Receiving objects: 100% (61/61), 67.82 MiB | 13.50 MiB/s, done.\n",
            "Resolving deltas: 100% (8/8), done.\n",
            "Updating files: 100% (28/28), done.\n"
          ]
        }
      ]
    },
    {
      "cell_type": "markdown",
      "source": [
        "##Change to cloned directory in Google Drive\n"
      ],
      "metadata": {
        "id": "9rSv0rolX5Rr"
      }
    },
    {
      "cell_type": "code",
      "source": [
        "%cd DeePred-BBB/\n"
      ],
      "metadata": {
        "colab": {
          "base_uri": "https://localhost:8080/"
        },
        "id": "4x1223T0Lbg3",
        "outputId": "e480963c-d6be-45d7-f7e4-132149401382"
      },
      "execution_count": 2,
      "outputs": [
        {
          "output_type": "stream",
          "name": "stdout",
          "text": [
            "/content/drive/MyDrive/Colab_Notebooks/DeepBBB/DeePred-BBB\n"
          ]
        }
      ]
    },
    {
      "cell_type": "markdown",
      "source": [
        "##Make a file containing all of compounds smiles and id's.\n",
        "The files are saved into the predicted results file that is made.\n",
        "\n",
        "More than one smiles file with the extention file can be present in the directory.\n",
        "\n",
        "**!! Can also add files manually by making the predicted file !!**"
      ],
      "metadata": {
        "id": "-wFeBK5NYOV8"
      }
    },
    {
      "cell_type": "code",
      "source": [
        "\n",
        "smiles_list = [\"CCO\", \"CN1C=NC2=C1C(=O)N(C(=O)N2C)C\", \"CC(=O)OC1=CC=CC=C1C(=O)O\",\n",
        "               \"CC(=O)NC1=CC=C(C=C1)O\", \"C(C(C1C(=C(C(=O)O1)O)O)O)O\"]\n",
        "id_list = [\"Ethanol\", \"Caffeine\", \"Aspirin\", \"Paracetamol\", \"VitaminC\"]\n",
        "\n",
        "with open(\"my_smiles.smi\", \"w\") as f:\n",
        "    for i, smile in enumerate(smiles_list):\n",
        "        f.write(smile + \" \" + id_list[i] + \"\\n\")"
      ],
      "metadata": {
        "id": "LpZIMVgaLxov"
      },
      "execution_count": 22,
      "outputs": []
    },
    {
      "cell_type": "markdown",
      "source": [
        "## Executing the BBB Deep-learning prediction model"
      ],
      "metadata": {
        "id": "vB-lqp33d70K"
      }
    },
    {
      "cell_type": "code",
      "source": [
        "!python DeePred-BBB_Script.py"
      ],
      "metadata": {
        "colab": {
          "base_uri": "https://localhost:8080/"
        },
        "id": "aoRnK1UsMCY-",
        "outputId": "8c403ad5-b7f2-4990-ca51-4ff55f2163c8"
      },
      "execution_count": 23,
      "outputs": [
        {
          "output_type": "stream",
          "name": "stdout",
          "text": [
            "2024-03-13 15:36:58.470163: E external/local_xla/xla/stream_executor/cuda/cuda_dnn.cc:9261] Unable to register cuDNN factory: Attempting to register factory for plugin cuDNN when one has already been registered\n",
            "2024-03-13 15:36:58.470240: E external/local_xla/xla/stream_executor/cuda/cuda_fft.cc:607] Unable to register cuFFT factory: Attempting to register factory for plugin cuFFT when one has already been registered\n",
            "2024-03-13 15:36:58.472837: E external/local_xla/xla/stream_executor/cuda/cuda_blas.cc:1515] Unable to register cuBLAS factory: Attempting to register factory for plugin cuBLAS when one has already been registered\n",
            "2024-03-13 15:36:58.489132: I tensorflow/core/platform/cpu_feature_guard.cc:182] This TensorFlow binary is optimized to use available CPU instructions in performance-critical operations.\n",
            "To enable the following instructions: AVX2 FMA, in other operations, rebuild TensorFlow with the appropriate compiler flags.\n",
            "2024-03-13 15:37:00.768168: W tensorflow/compiler/tf2tensorrt/utils/py_utils.cc:38] TF-TRT Warning: Could not find TensorRT\n",
            "Processing Ethanol in smiles.smi (1/10). \n",
            "Processing Caffeine in smiles.smi (2/10). \n",
            "Processing Aspirin in smiles.smi (3/10). Average speed: 1.61 s/mol.\n",
            "Processing Paracetamol in smiles.smi (4/10). Average speed: 1.36 s/mol.\n",
            "Processing VitaminC in smiles.smi (5/10). Average speed: 1.02 s/mol.\n",
            "Processing Ethanol in my_smiles.smi (6/10). Average speed: 0.93 s/mol.\n",
            "Processing Aspirin in my_smiles.smi (8/10). Average speed: 1.00 s/mol.\n",
            "Processing Caffeine in my_smiles.smi (7/10). Average speed: 0.97 s/mol.\n",
            "Processing Paracetamol in my_smiles.smi (9/10). Average speed: 0.72 s/mol.\n",
            "Processing VitaminC in my_smiles.smi (10/10). Average speed: 0.76 s/mol.\n",
            "Descriptor calculation completed in 6.866 secs . Average speed: 0.69 s/mol.\n",
            "Features calculated\n",
            "WARNING:tensorflow:No training configuration found in the save file, so the model was *not* compiled. Compile it manually.\n",
            "Model loaded\n",
            "1/1 [==============================] - 0s 140ms/step\n"
          ]
        }
      ]
    },
    {
      "cell_type": "markdown",
      "source": [
        "## Analyzing results\n",
        "\n",
        "!! MORE ANALYSIS COMING !!"
      ],
      "metadata": {
        "id": "mU6ypYJoeGHS"
      }
    },
    {
      "cell_type": "code",
      "source": [
        "import pandas as pd\n",
        "data = pd.read_csv(\"DeePred-BBB_predictions.csv\")\n",
        "data\n"
      ],
      "metadata": {
        "id": "scstBWJsRzNa"
      },
      "execution_count": null,
      "outputs": []
    },
    {
      "cell_type": "code",
      "source": [],
      "metadata": {
        "id": "u2aCbgKcVi_I"
      },
      "execution_count": null,
      "outputs": []
    }
  ]
}